{
 "cells": [
  {
   "cell_type": "code",
   "execution_count": null,
   "metadata": {},
   "outputs": [],
   "source": [
    "import matplotlib.pyplot as plt\n",
    "import seaborn as sns\n",
    "import numpy as np\n",
    "import pandas as pd\n",
    "import re\n",
    "import os"
   ]
  },
  {
   "cell_type": "code",
   "execution_count": null,
   "metadata": {},
   "outputs": [],
   "source": [
    "optima = {\n",
    "    \"br17\":     39,\n",
    "    \"ft53\":   6905,\n",
    "    \"ft70\":  38673,\n",
    "    \"ftv33\":  1286,\n",
    "    \"ftv35\":  1473,\n",
    "    \"ftv38\":  1530,\n",
    "    \"ftv44\":  1613,\n",
    "    \"ftv47\":  1776,\n",
    "    \"ftv55\":  1608,\n",
    "    \"ftv64\":  1839,\n",
    "    \"ftv70\":  1950,\n",
    "    \"ftv90\":  1579,\n",
    "    \"ftv100\": 1788,\n",
    "    \"ftv110\": 1958,\n",
    "    \"ftv120\": 2166,\n",
    "    \"ftv130\": 2307,\n",
    "    \"ftv140\": 2420,\n",
    "    \"ftv150\": 2611,\n",
    "    \"ftv160\": 2683,\n",
    "    \"ftv170\": 2755,\n",
    "    \"kro124p\":36230,\n",
    "    \"p43\":    5620,\n",
    "    \"rbg323\": 1326,\n",
    "    \"rbg358\": 1163,\n",
    "    \"rbg403\": 2465, \n",
    "    \"rbg443\": 2720,\n",
    "    \"ry48p\": 14422,\n",
    "}"
   ]
  },
  {
   "cell_type": "code",
   "execution_count": null,
   "metadata": {},
   "outputs": [],
   "source": [
    "def annotate_ordering(df: pd.DataFrame) -> pd.DataFrame:\n",
    "    df[\"instance_size\"] = df.instance.apply(lambda x: int(re.search(r'\\d+', x).group()))\n",
    "    df[\"method_idx\"] = df[\"method\"].apply(lambda x: all_methods.index(x))\n",
    "    return df.sort_values(by=['instance_size', 'method_idx'])\n",
    "\n",
    "sa_res_df = pd.read_json('../data/results/sa-out-10.json')\n",
    "ts_res_df = pd.read_json('../data/results/ts-out-10.json')\n",
    "all_res_df = pd.concat([sa_res_df, ts_res_df], ignore_index=True)\n",
    "\n",
    "\n",
    "custom_names = {\n",
    "    \"simulated-annealing\": \"SA-R\",\n",
    "    \"simulated-annealing-nn\": \"SA-H\",\n",
    "    \"tabu-search\": \"TS-R\",\n",
    "    \"tabu-search-nn\": \"TS-H\",\n",
    "}\n",
    "\n",
    "all_methods = list(custom_names.values())\n",
    "all_res_df['method'] = all_res_df['method'].apply(lambda x: custom_names[x])\n",
    "all_res_df = annotate_ordering(all_res_df).reset_index(drop=True)\n",
    "selected_instances = all_res_df['instance'].unique()\n",
    "all_res_df.shape"
   ]
  },
  {
   "cell_type": "code",
   "execution_count": null,
   "metadata": {},
   "outputs": [],
   "source": [
    "SA_METHODS = [\"SA-R\", \"SA-H\"]\n",
    "TS_METHODS = [\"TS-R\", \"TS-H\"]\n",
    "\n",
    "COLORS = {\n",
    "    \"SA-R\": \"#189990\",\n",
    "    \"SA-H\": \"#094d48\",\n",
    "    \"TS-R\": \"#ff3399\",\n",
    "    \"TS-H\": \"#660033\"\n",
    "}\n",
    "\n",
    "all_res_df[\"distance\"] = all_res_df.apply(lambda row: (row['cost'] - optima[row['instance']]) / optima[row['instance']], axis=1)\n",
    "groupped_df = all_res_df.groupby(['instance', 'method'])[[\"distance\", \"time\", \"iterations\", \"steps\", \"evaluations\", 'cost']].agg(['mean', 'std', 'min', 'max'])\n",
    "groupped_df.columns = [\"_\".join(x) for x in groupped_df.columns]\n",
    "stats_df = groupped_df.reset_index()\n",
    "stats_df = annotate_ordering(stats_df).reset_index(drop=True)\n",
    "stats_df.head()"
   ]
  },
  {
   "cell_type": "code",
   "execution_count": null,
   "metadata": {},
   "outputs": [],
   "source": [
    "def plot_violin_by_attr(\n",
    "        res_df: pd.DataFrame, \n",
    "        selected_methods: list[str],\n",
    "        selected_instances: list[str], \n",
    "        attribute: str,\n",
    "        ax: plt.Axes,\n",
    "        y_max: int = None,\n",
    "    ):\n",
    "    filtered_df = res_df[res_df['method'].isin(selected_methods) & res_df['instance'].isin(selected_instances)]\n",
    "    sns.violinplot(\n",
    "        x='instance', \n",
    "        y=attribute, \n",
    "        hue='method', \n",
    "        data=filtered_df, \n",
    "        ax=ax,\n",
    "        linewidth=0, \n",
    "        scale='width', \n",
    "        palette=COLORS, \n",
    "    )\n",
    "    ax.vlines(\n",
    "        np.arange(-1, len(selected_instances)) + 0.5, \n",
    "        0, \n",
    "        filtered_df[attribute].max() if y_max is None else y_max, \n",
    "        linestyles='dotted', \n",
    "        colors='gray', \n",
    "        alpha=0.5,\n",
    "    )\n",
    "    ax.set_xticklabels(ax.get_xticklabels(), rotation=45)\n",
    "    return ax\n",
    "\n",
    "\n",
    "def plot_bars(\n",
    "    res_df: pd.DataFrame,\n",
    "    selected_methods: list[str],\n",
    "    selected_instances: list[str],\n",
    "    attribute: str,\n",
    "    ax: plt.Axes,\n",
    "    err_attribute: str = None,\n",
    "    x_attr: str = 'instance',\n",
    "):\n",
    "    filtered_df = res_df[res_df['method'].isin(selected_methods) & res_df['instance'].isin(selected_instances)]\n",
    "    sns.barplot(\n",
    "        x=x_attr, \n",
    "        y=attribute, \n",
    "        hue='method',\n",
    "        data=filtered_df, \n",
    "        ax=ax,\n",
    "        palette=COLORS,\n",
    "    )\n",
    "    if err_attribute:\n",
    "        x_coords = np.array([p.get_x() + p.get_width() / 2 for p in ax.patches])\n",
    "        y_coords = np.array([p.get_height() for p in ax.patches])\n",
    "        sorted_idx = np.argsort(x_coords)\n",
    "        x_coords = x_coords[sorted_idx][:filtered_df.shape[0]]\n",
    "        y_coords = y_coords[sorted_idx][:filtered_df.shape[0]]\n",
    "        y_err = filtered_df[err_attribute].to_numpy()\n",
    "        ax.errorbar(x_coords, y_coords, yerr=y_err, fmt='none', ecolor='black', capsize=2)\n",
    "\n",
    "\n",
    "    ax.set_xticklabels(ax.get_xticklabels(), rotation=45)\n",
    "    return ax"
   ]
  },
  {
   "cell_type": "code",
   "execution_count": null,
   "metadata": {},
   "outputs": [],
   "source": [
    "fig, ax = plt.subplots(1, 1, figsize=(12, 6), sharex=True)\n",
    "plot_violin_by_attr(all_res_df, [*TS_METHODS, *SA_METHODS], selected_instances, \"distance\", ax)\n",
    "ax.set_ylabel(\"Distance to optimum\")\n",
    "ax.set_xlabel(\"Instance\")\n",
    "ax.legend()\n",
    "\n",
    "plt.tight_layout()\n",
    "plt.show()"
   ]
  },
  {
   "cell_type": "code",
   "execution_count": null,
   "metadata": {},
   "outputs": [],
   "source": [
    "with sns.axes_style(\"whitegrid\"):\n",
    "    fig, axs = plt.subplots(2, 1, figsize=(12, 6), sharey=True, sharex=True)\n",
    "    plot_bars(stats_df, [*TS_METHODS, *SA_METHODS], selected_instances, \"distance_mean\", axs[0], \"distance_std\")\n",
    "    axs[0].set_ylabel(\"Distance\")\n",
    "    axs[0].set_xlabel(\"\")\n",
    "    axs[0].set_title(\"Mean\")\n",
    "    axs[0].legend().remove()\n",
    "    plot_bars(stats_df, [*TS_METHODS, *SA_METHODS], selected_instances, \"distance_min\", axs[1])\n",
    "    axs[1].legend().remove()\n",
    "    axs[1].set_ylabel(\"Distance\")\n",
    "    axs[1].set_xlabel(\"Instance\")\n",
    "    axs[1].set_title(\"Min\")\n",
    "    plt.yscale('log')\n",
    "    plt.tight_layout()\n",
    "    plt.show()\n"
   ]
  },
  {
   "cell_type": "code",
   "execution_count": null,
   "metadata": {},
   "outputs": [],
   "source": [
    "fig, ax = plt.subplots(1, 1, figsize=(12, 4))\n",
    "plot_violin_by_attr(all_res_df, [*SA_METHODS, *TS_METHODS], selected_instances, \"time\", ax)\n",
    "\n",
    "ax.legend()\n",
    "ax.set_ylabel(\"Running Time\")\n",
    "ax.set_xlabel(\"Instance\")\n",
    "plt.yscale('log')\n",
    "plt.yticks([10**i for i in range(0, 13, 3)], [\"1ns\", \"1 us\", \"1 ms\", \"1 s\", \"1000 s\"])\n",
    "plt.tight_layout()\n",
    "plt.savefig(\"plots/1/violin_time.png\")\n",
    "plt.show()"
   ]
  },
  {
   "cell_type": "code",
   "execution_count": null,
   "metadata": {},
   "outputs": [],
   "source": [
    "with sns.axes_style(\"whitegrid\"):\n",
    "    fig, ax = plt.subplots(1, 1, figsize=(12, 4))\n",
    "    plot_bars(stats_df, TS_METHODS + SA_METHODS, selected_instances, \"time_mean\", ax, \"time_std\")\n",
    "    ax.set_ylabel(\"Running Time\")\n",
    "    ax.set_xlabel(\"Instance\")\n",
    "    ax.get_legend().remove()\n",
    "    \n",
    "    plt.yscale('log')\n",
    "    plt.yticks([10**i for i in range(0, 13, 3)], [\"1 ns\", \"1 us\", \"1 ms\", \"1 s\", \"1000 s\"])\n",
    "    plt.tight_layout()\n",
    "    plt.savefig(\"plots/1/bar_time.png\")\n",
    "    plt.show()"
   ]
  },
  {
   "cell_type": "markdown",
   "metadata": {},
   "source": [
    "# SA - per param spec analysis"
   ]
  },
  {
   "cell_type": "code",
   "execution_count": null,
   "metadata": {},
   "outputs": [],
   "source": [
    "rename_dict = {\n",
    "    \"meta-param-1\": \"temperature\",\n",
    "    \"meta-param-2\": \"cooling_rate\",\n",
    "    \"meta-param-3\": \"markov_chain_length\"\n",
    "}\n",
    "sa_res_df = all_res_df[all_res_df['method'].isin(SA_METHODS)].rename(columns=rename_dict)\n",
    "sa_groupped_df = sa_res_df.groupby(['instance', 'method', \"temperature\", \"cooling_rate\", \"markov_chain_length\"])[[\"distance\", \"time\", \"iterations\", \"steps\", \"evaluations\", 'cost']].agg(['mean', 'std', 'min', 'max'])\n",
    "sa_groupped_df.columns = [\"_\".join(x) for x in sa_groupped_df.columns]\n",
    "sa_stats_df = sa_groupped_df.reset_index()\n",
    "sa_stats_df = annotate_ordering(sa_stats_df).reset_index(drop=True)"
   ]
  },
  {
   "cell_type": "code",
   "execution_count": null,
   "metadata": {},
   "outputs": [],
   "source": [
    "def plot_stat_by_param(\n",
    "    df: pd.DataFrame, params: list[str], stat: str, prefix: str, methods: list[str]\n",
    "):\n",
    "    for param in params:\n",
    "        fig, axs = plt.subplots(len(selected_instances) // 4, len(selected_instances) // 2, figsize=(12, 6), sharex=True)\n",
    "        for instance, ax in zip(selected_instances, axs.flatten()):\n",
    "            param_df = df.groupby([\"instance\", \"method\", param])[[f\"{stat}_mean\", f'{stat}_std']].mean().reset_index()\n",
    "            param_df[param] = param_df[param].apply(lambda x: round(x, 2))\n",
    "            ax.set_title(instance)\n",
    "            plot_bars(param_df, methods, [instance], f\"{stat}_mean\", ax, f\"{stat}_std\", x_attr=param)\n",
    "            ax.set_ylabel(\"\")\n",
    "            ax.set_xlabel(\"\")\n",
    "            ax.get_legend().remove()\n",
    "\n",
    "        fig.text(-0.01, 0.45, stat.title(), rotation='vertical', fontdict={'fontsize': 12})\n",
    "        fig.text(0.5, -0.01, param.title().replace(\"_\",\" \"), ha='center', fontdict={'fontsize': 12})\n",
    "        plt.tight_layout()\n",
    "        plt.savefig(f\"./plots/2/{prefix}-{param}-{stat}.png\")\n",
    "        plt.show()"
   ]
  },
  {
   "cell_type": "code",
   "execution_count": null,
   "metadata": {},
   "outputs": [],
   "source": [
    "plot_stat_by_param(sa_stats_df, rename_dict.values(), \"distance\", \"sa\", SA_METHODS)"
   ]
  },
  {
   "cell_type": "code",
   "execution_count": null,
   "metadata": {},
   "outputs": [],
   "source": [
    "plot_stat_by_param(sa_stats_df, rename_dict.values(), \"time\", \"sa\", SA_METHODS)"
   ]
  },
  {
   "cell_type": "markdown",
   "metadata": {},
   "source": [
    "# TS - per param spec analysis"
   ]
  },
  {
   "cell_type": "code",
   "execution_count": null,
   "metadata": {},
   "outputs": [],
   "source": [
    "rename_dict = {\n",
    "    \"meta-param-1\": \"patience\",\n",
    "    \"meta-param-2\": \"elite\",\n",
    "    \"meta-param-3\": \"tenure\"\n",
    "}\n",
    "ts_res_df = all_res_df[all_res_df['method'].isin(TS_METHODS)].rename(columns=rename_dict)\n",
    "ts_groupped_df = ts_res_df.groupby(['instance', 'method', \"patience\", \"elite\", \"tenure\"])[[\"distance\", \"time\", \"iterations\", \"steps\", \"evaluations\", 'cost']].agg(['mean', 'std', 'min', 'max'])\n",
    "ts_groupped_df.columns = [\"_\".join(x) for x in ts_groupped_df.columns]\n",
    "ts_stats_df = ts_groupped_df.reset_index()\n",
    "ts_stats_df = annotate_ordering(ts_stats_df).reset_index(drop=True)"
   ]
  },
  {
   "cell_type": "code",
   "execution_count": null,
   "metadata": {},
   "outputs": [],
   "source": [
    "plot_stat_by_param(ts_stats_df, rename_dict.values(), \"distance\", \"ts\", TS_METHODS)"
   ]
  },
  {
   "cell_type": "code",
   "execution_count": null,
   "metadata": {},
   "outputs": [],
   "source": [
    "plot_stat_by_param(ts_stats_df, rename_dict.values(), \"time\", \"ts\", TS_METHODS)"
   ]
  }
 ],
 "metadata": {
  "kernelspec": {
   "display_name": "Python 3",
   "language": "python",
   "name": "python3"
  },
  "language_info": {
   "codemirror_mode": {
    "name": "ipython",
    "version": 3
   },
   "file_extension": ".py",
   "mimetype": "text/x-python",
   "name": "python",
   "nbconvert_exporter": "python",
   "pygments_lexer": "ipython3",
   "version": "3.10.4"
  }
 },
 "nbformat": 4,
 "nbformat_minor": 2
}
