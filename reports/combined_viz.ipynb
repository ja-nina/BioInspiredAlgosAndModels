{
 "cells": [
  {
   "cell_type": "code",
   "execution_count": null,
   "metadata": {},
   "outputs": [],
   "source": [
    "import pandas as pd\n",
    "import seaborn as sns\n",
    "import matplotlib.pyplot as plt\n",
    "import re\n",
    "import numpy as np"
   ]
  },
  {
   "cell_type": "code",
   "execution_count": null,
   "metadata": {},
   "outputs": [],
   "source": [
    "path = \"../data/results\"\n",
    "base_df = pd.read_json(f\"{path}/atsp-out-300.json\")\n",
    "sa_df = pd.read_json(f\"{path}/sa-final2-ext-out-40.json\")\n",
    "ts_df = pd.read_json(f\"{path}/ts-final2-ext-out-40.json\")\n",
    "\n",
    "all_res_df = pd.concat([base_df, sa_df, ts_df], ignore_index=True)"
   ]
  },
  {
   "cell_type": "code",
   "execution_count": null,
   "metadata": {},
   "outputs": [],
   "source": [
    "optima = {\n",
    "    \"br17\":     39,\n",
    "    \"ft53\":   6905,\n",
    "    \"ft70\":  38673,\n",
    "    \"ftv33\":  1286,\n",
    "    \"ftv35\":  1473,\n",
    "    \"ftv38\":  1530,\n",
    "    \"ftv44\":  1613,\n",
    "    \"ftv47\":  1776,\n",
    "    \"ftv55\":  1608,\n",
    "    \"ftv64\":  1839,\n",
    "    \"ftv70\":  1950,\n",
    "    \"ftv90\":  1579,\n",
    "    \"ftv100\": 1788,\n",
    "    \"ftv110\": 1958,\n",
    "    \"ftv120\": 2166,\n",
    "    \"ftv130\": 2307,\n",
    "    \"ftv140\": 2420,\n",
    "    \"ftv150\": 2611,\n",
    "    \"ftv160\": 2683,\n",
    "    \"ftv170\": 2755,\n",
    "    \"kro124p\":36230,\n",
    "    \"p43\":    5620,\n",
    "    \"rbg323\": 1326,\n",
    "    \"rbg358\": 1163,\n",
    "    \"rbg403\": 2465, \n",
    "    \"rbg443\": 2720,\n",
    "    \"ry48p\": 14422,\n",
    "}\n",
    "SA_METHODS = [\"SA-R\", \"SA-H\"]\n",
    "TS_METHODS = [\"TS-R\", \"TS-H\"]\n",
    "LS_METHODS = [\"S-R\", \"G-R\"]\n",
    "LS_NN_METHODS = [\"S-H\", \"G-H\"]\n",
    "RANDOM_METHODS = [\"R\", \"RW\"]\n",
    "selected_methods = [\"S-R\", \"G-R\", \"H\", \"RW\", \"R\"]\n",
    "COLORS = {\n",
    "    **dict(zip(selected_methods, sns.palettes.SEABORN_PALETTES[\"muted\"])),\n",
    "    \"S-R\":  \"#6a9ec3\",\n",
    "    \"S-H\":  \"#14397E\",\n",
    "    \"G-H\":  \"#76330E\",\n",
    "    \"SA-R\": \"#189990\",\n",
    "    \"SA-H\": \"#094d48\",\n",
    "    \"TS-R\": \"#ff3399\",\n",
    "    \"TS-H\": \"#660033\"\n",
    "}\n",
    "rename_map = {\n",
    "    \"steepest-search\": \"S-R\",\n",
    "    \"steepest-search-nn\": \"S-H\",\n",
    "    \"greedy-search\": \"G-R\",\n",
    "    \"greedy-search-nn\": \"G-H\",\n",
    "    \"nn-heuristic\": \"H\",\n",
    "    \"random\": \"R\",\n",
    "    \"random-walk\": \"RW\",\n",
    "    \"simulated-annealing\": \"SA-R\",\n",
    "    \"simulated-annealing-nn\": \"SA-H\",\n",
    "    \"tabu-search\": \"TS-R\",\n",
    "    \"tabu-search-nn\": \"TS-H\",\n",
    "}\n",
    "ORDER = tuple(rename_map.values())\n",
    "\n",
    "def annotate_ordering(df: pd.DataFrame) -> pd.DataFrame:\n",
    "    df[\"instance_size\"] = df.instance.apply(lambda x: int(re.search(r'\\d+', x).group()))\n",
    "    df[\"method_idx\"] = df[\"method\"].apply(lambda x: ORDER.index(x))\n",
    "    return df.sort_values(by=['instance_size', 'method_idx'])\n"
   ]
  },
  {
   "cell_type": "code",
   "execution_count": null,
   "metadata": {},
   "outputs": [],
   "source": [
    "all_res_df[\"method\"] = all_res_df[\"method\"].apply(lambda m: rename_map[m])\n",
    "all_res_df[\"distance\"] = all_res_df.apply(lambda row: (row['cost'] - optima[row['instance']]) / optima[row['instance']], axis=1)\n",
    "all_res_df = annotate_ordering(all_res_df)\n",
    "selected_instances = all_res_df[\"instance\"].unique()\n",
    "groupped_df = all_res_df.groupby(['instance', 'method'])[[\"distance\", \"time\", \"iterations\", \"steps\", \"evaluations\", 'cost']].agg(['mean', 'std', 'min', 'max'])\n",
    "groupped_df.columns = [\"_\".join(x) for x in groupped_df.columns]\n",
    "stats_df = groupped_df.reset_index()\n",
    "stats_df[\"instance_size\"] = stats_df.instance.apply(lambda x: int(re.search(r'\\d+', x).group())) \n",
    "stats_df[\"method_idx\"] = stats_df.method.apply(lambda m: ORDER.index(m))\n",
    "stats_df.head()\n",
    "\n",
    "stats_df.sort_values(by=[\"instance_size\", \"method_idx\"], inplace=True)"
   ]
  },
  {
   "cell_type": "code",
   "execution_count": null,
   "metadata": {},
   "outputs": [],
   "source": [
    "\n",
    "def plot_violin_by_attr(\n",
    "        res_df: pd.DataFrame, \n",
    "        selected_methods: list[str],\n",
    "        selected_instances: list[str], \n",
    "        attribute: str,\n",
    "        ax: plt.Axes,\n",
    "        y_max: int = None,\n",
    "    ):\n",
    "    filtered_df = res_df[res_df['method'].isin(selected_methods) & res_df['instance'].isin(selected_instances)]\n",
    "    sns.violinplot(\n",
    "        x='instance', \n",
    "        y=attribute, \n",
    "        hue='method', \n",
    "        data=filtered_df, \n",
    "        ax=ax,\n",
    "        linewidth=0, \n",
    "        scale='width', \n",
    "        palette=COLORS, \n",
    "    )\n",
    "    ax.vlines(\n",
    "        np.arange(-1, len(selected_instances)) + 0.5, \n",
    "        0, \n",
    "        filtered_df[attribute].max() if y_max is None else y_max, \n",
    "        linestyles='dotted', \n",
    "        colors='gray', \n",
    "        alpha=0.5,\n",
    "    )\n",
    "    ax.set_xticklabels(ax.get_xticklabels(), rotation=45)\n",
    "    return ax\n",
    "\n",
    "\n",
    "def plot_bars(\n",
    "    res_df: pd.DataFrame,\n",
    "    selected_methods: list[str],\n",
    "    selected_instances: list[str],\n",
    "    attribute: str,\n",
    "    ax: plt.Axes,\n",
    "    err_attribute: str = None,\n",
    "    x_attr: str = 'instance',\n",
    "):\n",
    "    filtered_df = res_df[res_df['method'].isin(selected_methods) & res_df['instance'].isin(selected_instances)]\n",
    "    sns.barplot(\n",
    "        x=x_attr, \n",
    "        y=attribute, \n",
    "        hue='method',\n",
    "        data=filtered_df, \n",
    "        ax=ax,\n",
    "        palette=COLORS,\n",
    "    )\n",
    "    if err_attribute:\n",
    "        x_coords = np.array([p.get_x() + p.get_width() / 2 for p in ax.patches])\n",
    "        y_coords = np.array([p.get_height() for p in ax.patches])\n",
    "        sorted_idx = np.argsort(x_coords)\n",
    "        x_coords = x_coords[sorted_idx]\n",
    "        y_coords = y_coords[sorted_idx]\n",
    "        y_err = filtered_df[err_attribute].to_numpy()\n",
    "        ax.errorbar(x_coords, y_coords, yerr=y_err, fmt='none', ecolor='black', capsize=2)\n",
    "\n",
    "\n",
    "    ax.set_xticklabels(ax.get_xticklabels(), rotation=45)\n",
    "    return ax"
   ]
  },
  {
   "cell_type": "code",
   "execution_count": null,
   "metadata": {},
   "outputs": [],
   "source": [
    "sns.set_style(\"ticks\")"
   ]
  },
  {
   "cell_type": "markdown",
   "metadata": {},
   "source": [
    "# Quality"
   ]
  },
  {
   "cell_type": "code",
   "execution_count": null,
   "metadata": {},
   "outputs": [],
   "source": [
    "fig, axs = plt.subplots(2, 1, figsize=(12, 6), sharex=True)\n",
    "plot_violin_by_attr(all_res_df, [*LS_METHODS, *LS_NN_METHODS, \"H\", *TS_METHODS, *SA_METHODS], selected_instances, \"distance\", axs[0])\n",
    "plot_violin_by_attr(all_res_df, RANDOM_METHODS, selected_instances, \"distance\", axs[1])\n",
    "axs[0].set_xlabel(\"\")\n",
    "axs[0].set_ylabel(\"Distance to optimum\")\n",
    "axs[1].set_ylabel(\"Distance to optimum\")\n",
    "axs[1].set_xlabel(\"Instance\")\n",
    "axs[1].legend()\n",
    "\n",
    "plt.tight_layout()\n",
    "plt.savefig(\"plots/3/violin_distance.png\")\n",
    "plt.show()"
   ]
  },
  {
   "cell_type": "code",
   "execution_count": null,
   "metadata": {},
   "outputs": [],
   "source": [
    "with sns.axes_style(\"whitegrid\"):\n",
    "    fig, axs = plt.subplots(2, 1, figsize=(12, 6), sharey=True, sharex=True)\n",
    "    plot_bars(stats_df, ORDER, selected_instances, \"distance_mean\", axs[0], \"distance_std\")\n",
    "    axs[0].set_ylabel(\"Distance\")\n",
    "    axs[0].set_xlabel(\"\")\n",
    "    axs[0].set_title(\"Mean\")\n",
    "    axs[0].legend().remove()\n",
    "    plot_bars(stats_df, ORDER, selected_instances, \"distance_min\", axs[1])\n",
    "    axs[1].legend().remove()\n",
    "    axs[1].set_ylabel(\"Distance\")\n",
    "    axs[1].set_xlabel(\"Instance\")\n",
    "    axs[1].set_title(\"Min\")\n",
    "    plt.yscale('log')\n",
    "    plt.tight_layout()\n",
    "    plt.savefig(\"plots/3/bar_distance.png\")\n",
    "    plt.show()"
   ]
  },
  {
   "cell_type": "markdown",
   "metadata": {},
   "source": [
    "# Time"
   ]
  },
  {
   "cell_type": "code",
   "execution_count": null,
   "metadata": {},
   "outputs": [],
   "source": [
    "fig, ax = plt.subplots(1, 1, figsize=(12, 4))\n",
    "plot_violin_by_attr(all_res_df, [*TS_METHODS, *SA_METHODS], selected_instances, \"time\", ax)\n",
    "\n",
    "ax.legend()\n",
    "ax.set_ylabel(\"Running Time\")\n",
    "ax.set_xlabel(\"Instance\")\n",
    "plt.tight_layout()\n",
    "plt.savefig(\"plots/3/violin_time_new.png\")\n",
    "plt.show()"
   ]
  },
  {
   "cell_type": "code",
   "execution_count": null,
   "metadata": {},
   "outputs": [],
   "source": [
    "with sns.axes_style(\"whitegrid\"):\n",
    "    fig, ax = plt.subplots(1, 1, figsize=(12, 4))\n",
    "    plot_bars(stats_df, ORDER, selected_instances, \"time_mean\", ax, \"time_std\")\n",
    "    ax.set_ylabel(\"Running Time\")\n",
    "    ax.set_xlabel(\"Instance\")\n",
    "    ax.get_legend().remove()\n",
    "    \n",
    "    plt.yscale('log')\n",
    "    plt.yticks([10**i for i in range(0, 13, 3)], [\"1 ns\", \"1 us\", \"1 ms\", \"1 s\", \"1000 s\"])\n",
    "    plt.tight_layout()\n",
    "    plt.savefig(\"plots/3/bar_time.png\")\n",
    "    plt.show()"
   ]
  },
  {
   "cell_type": "markdown",
   "metadata": {},
   "source": [
    "# Efficiency"
   ]
  },
  {
   "cell_type": "code",
   "execution_count": null,
   "metadata": {},
   "outputs": [],
   "source": [
    "# plot mean time over mean distance for each method\n",
    "fig, axs = plt.subplots(2, 4, figsize=(12, 6))\n",
    "for instance, ax in zip(selected_instances, axs.flatten()):\n",
    "    summary_subset_df = stats_df[(stats_df['instance'] == instance) & (stats_df['method'].isin(ORDER))]\n",
    "    sns.scatterplot(\n",
    "        x='time_mean',\n",
    "        y='distance_mean',\n",
    "        hue='method',\n",
    "        data=summary_subset_df,\n",
    "        ax=ax,\n",
    "        alpha=1,\n",
    "        palette=COLORS,\n",
    "    )\n",
    "    ax.set_xlabel(\"\")\n",
    "    ax.set_ylabel(\"\")\n",
    "    ax.set_title(instance)\n",
    "    ax.set_yscale('log')\n",
    "    ax.get_legend().remove()\n",
    "\n",
    "\n",
    "fig.text(-0.01, 0.45, 'Mean Distance', rotation='vertical', fontdict={'fontsize': 12})\n",
    "fig.text(0.5, -0.01, \"Mean Running Time [ns]\", ha='center', fontdict={'fontsize': 12})\n",
    "lgd = fig.legend(\n",
    "    handles=[plt.Line2D([0], [0], marker='o', color='w', markerfacecolor=COLORS[method], markersize=10, label=method) for method in ORDER],\n",
    "    loc='center right',\n",
    "    bbox_to_anchor=(1.07, 0.5),\n",
    "    title=\"Method\"\n",
    ")\n",
    "plt.tight_layout()\n",
    "fig.savefig(\"plots/3/efficiency.png\", bbox_extra_artists=(lgd,), bbox_inches='tight')\n",
    "plt.show()"
   ]
  },
  {
   "cell_type": "markdown",
   "metadata": {},
   "source": [
    "# Number of Steps"
   ]
  },
  {
   "cell_type": "code",
   "execution_count": null,
   "metadata": {},
   "outputs": [],
   "source": [
    "step_algorithms = [LS_METHODS[0], LS_NN_METHODS[0], LS_METHODS[1], LS_NN_METHODS[1], *SA_METHODS, *TS_METHODS]\n",
    "with sns.axes_style(\"whitegrid\"):\n",
    "    fig, ax = plt.subplots(1, 1, figsize=(12, 4))\n",
    "    plot_bars(stats_df, step_algorithms, selected_instances, \"steps_mean\", ax, \"steps_std\")\n",
    "    ax.set_ylabel(\"Number of steps\")\n",
    "    ax.set_xlabel(\"Instance\")\n",
    "    ax.get_legend().remove()\n",
    "\n",
    "    lgd = ax.legend(\n",
    "        handles=[plt.Line2D([0], [0], marker='o', color='w', markerfacecolor=COLORS[method], markersize=10, label=method) for method in step_algorithms],\n",
    "        loc='center right',\n",
    "        bbox_to_anchor=(1.09, 0.5),\n",
    "        title=\"Method\"\n",
    "    )\n",
    "\n",
    "    plt.tight_layout()\n",
    "    plt.yscale('log')\n",
    "    fig.savefig(\"plots/3/bar_steps.png\", bbox_extra_artists=(lgd,), bbox_inches='tight')\n",
    "    plt.show()\n"
   ]
  },
  {
   "cell_type": "markdown",
   "metadata": {},
   "source": [
    "# Number of Evaluations"
   ]
  },
  {
   "cell_type": "code",
   "execution_count": null,
   "metadata": {},
   "outputs": [],
   "source": [
    "eval_methods = [LS_METHODS[0], LS_NN_METHODS[0], LS_METHODS[1], LS_NN_METHODS[1], *RANDOM_METHODS,*SA_METHODS, *TS_METHODS]\n",
    "\n",
    "with sns.axes_style(\"whitegrid\"):\n",
    "    fig, ax = plt.subplots(1, 1, figsize=(12, 4))\n",
    "    plot_bars(stats_df, eval_methods, selected_instances, \"evaluations_mean\", ax, \"evaluations_std\")\n",
    "    ax.set_ylabel(\"Number of evaluations\")\n",
    "    ax.set_xlabel(\"Instance\")\n",
    "    ax.get_legend().remove()\n",
    "    \n",
    "    plt.yscale('log')\n",
    "    plt.tight_layout()\n",
    "    plt.savefig(\"plots/3/bar_evaluations.png\")\n",
    "    plt.show()"
   ]
  },
  {
   "cell_type": "code",
   "execution_count": null,
   "metadata": {},
   "outputs": [],
   "source": [
    "sa_times = stats_df[stats_df[\"method\"] == \"SA-R\"][[\"instance\", \"time_mean\"]].to_dict(orient=\"records\")\n",
    "\n",
    "{row[\"instance\"]: int(row[\"time_mean\"]) for row in sa_times}"
   ]
  },
  {
   "cell_type": "markdown",
   "metadata": {},
   "source": [
    "# History Analysis"
   ]
  },
  {
   "cell_type": "code",
   "execution_count": null,
   "metadata": {},
   "outputs": [],
   "source": [
    "base_history = pd.read_json(f\"{path}/all-hist-50.json\")\n",
    "\n",
    "all_hist_df = pd.concat([base_history, sa_df, ts_df], ignore_index=True)\n",
    "all_hist_df[\"method\"] = all_hist_df[\"method\"].apply(lambda m: rename_map[m])\n",
    "all_hist_df = annotate_ordering(all_hist_df)"
   ]
  },
  {
   "cell_type": "code",
   "execution_count": null,
   "metadata": {},
   "outputs": [],
   "source": [
    "def boxify_series(x: list[float], y: list[float]) -> tuple[list[float], list[float]]:\n",
    "    new_x = [x[0]]\n",
    "    new_y = [y[0]]\n",
    "    pre_y = y[0]\n",
    "    for x_val, y_val in zip(x[1:], y[1:]):\n",
    "        new_x.append(x_val)\n",
    "        new_x.append(x_val)\n",
    "        new_y.append(pre_y)\n",
    "        new_y.append(y_val)\n",
    "        pre_y = y_val\n",
    "\n",
    "    return new_x, new_y\n"
   ]
  },
  {
   "cell_type": "code",
   "execution_count": null,
   "metadata": {},
   "outputs": [],
   "source": [
    "def plot_history(history_df: pd.DataFrame, instance: str, methods: list[str], ax: plt.Axes):\n",
    "    subset_df = history_df[(history_df['instance'] == instance) & history_df['method'].isin(methods)]\n",
    "    for _, row in subset_df.iterrows():\n",
    "        cost = row['cost_history']\n",
    "        evaluations = row[\"evaluations_history\"]\n",
    "        ax.plot(*boxify_series(evaluations, cost), color=COLORS[row[\"method\"]], alpha=0.5)\n",
    "    \n",
    "    ax.set_xlabel(\"Number of evaluations\")\n",
    "    ax.set_ylabel(\"Cost\")\n",
    "    max_e = subset_df[\"evaluations_history\"].apply(lambda x: max(x)).max()\n",
    "    ax.hlines(optima[instance], 0, max_e, linestyles=\"dashed\", colors=\"black\")\n",
    "\n",
    "\n",
    "def generate_visualization_for_instance(history_df: pd.DataFrame, instance: str):\n",
    "    _, axs = plt.subplots(2, 1, figsize=(12, 8))\n",
    "    methods = [*LS_METHODS, *LS_NN_METHODS, *RANDOM_METHODS]\n",
    "\n",
    "    plot_history(all_hist_df, instance, methods, axs[0])\n",
    "    lgn_1 = axs[0].legend(\n",
    "        handles=[plt.Line2D([0], [0], color=COLORS[method], label=method) for method in methods],\n",
    "        loc='center right',\n",
    "        title=\"Method\"\n",
    "    )\n",
    "    plot_history(all_hist_df, instance, [*TS_METHODS, *SA_METHODS], axs[1])\n",
    "    lgn_2 = axs[1].legend(\n",
    "        handles=[plt.Line2D([0], [0], color=COLORS[method], label=method) for method in [*TS_METHODS, *SA_METHODS]],\n",
    "        loc='center right',\n",
    "        title=\"Method\"\n",
    "    )\n",
    "    plt.tight_layout()\n",
    "    plt.savefig(f\"plots/3/history_{instance}.png\", bbox_inches='tight')\n",
    "    plt.show()\n"
   ]
  },
  {
   "cell_type": "code",
   "execution_count": null,
   "metadata": {},
   "outputs": [],
   "source": [
    "generate_visualization_for_instance(all_hist_df, \"ftv33\")"
   ]
  },
  {
   "cell_type": "code",
   "execution_count": null,
   "metadata": {},
   "outputs": [],
   "source": [
    "generate_visualization_for_instance(all_hist_df, \"rbg443\")"
   ]
  }
 ],
 "metadata": {
  "kernelspec": {
   "display_name": "dviz",
   "language": "python",
   "name": "python3"
  },
  "language_info": {
   "codemirror_mode": {
    "name": "ipython",
    "version": 3
   },
   "file_extension": ".py",
   "mimetype": "text/x-python",
   "name": "python",
   "nbconvert_exporter": "python",
   "pygments_lexer": "ipython3",
   "version": "3.10.4"
  }
 },
 "nbformat": 4,
 "nbformat_minor": 2
}
