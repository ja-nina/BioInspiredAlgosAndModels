{
 "cells": [
  {
   "cell_type": "code",
   "execution_count": null,
   "metadata": {},
   "outputs": [],
   "source": [
    "import matplotlib.pyplot as plt\n",
    "import seaborn as sns\n",
    "import numpy as np\n",
    "import pandas as pd\n",
    "import re"
   ]
  },
  {
   "cell_type": "code",
   "execution_count": null,
   "metadata": {},
   "outputs": [],
   "source": [
    "optima = {\n",
    "    \"br17\":     39,\n",
    "    \"ft53\":   6905,\n",
    "    \"ft70\":  38673,\n",
    "    \"ftv33\":  1286,\n",
    "    \"ftv35\":  1473,\n",
    "    \"ftv38\":  1530,\n",
    "    \"ftv44\":  1613,\n",
    "    \"ftv47\":  1776,\n",
    "    \"ftv55\":  1608,\n",
    "    \"ftv64\":  1839,\n",
    "    \"ftv70\":  1950,\n",
    "    \"ftv90\":  1579,\n",
    "    \"ftv100\": 1788,\n",
    "    \"ftv110\": 1958,\n",
    "    \"ftv120\": 2166,\n",
    "    \"ftv130\": 2307,\n",
    "    \"ftv140\": 2420,\n",
    "    \"ftv150\": 2611,\n",
    "    \"ftv160\": 2683,\n",
    "    \"ftv170\": 2755,\n",
    "    \"kro124p\":36230,\n",
    "    \"p43\":    5620,\n",
    "    \"rbg323\": 1326,\n",
    "    \"rbg358\": 1163,\n",
    "    \"rbg403\": 2465, \n",
    "    \"rbg443\": 2720,\n",
    "    \"ry48p\": 14422,\n",
    "}"
   ]
  },
  {
   "cell_type": "code",
   "execution_count": null,
   "metadata": {},
   "outputs": [],
   "source": [
    "def annotate_ordering(df: pd.DataFrame) -> pd.DataFrame:\n",
    "    df[\"instance_size\"] = df.instance.apply(lambda x: int(re.search(r'\\d+', x).group()))\n",
    "    df[\"method_idx\"] = df[\"method\"].apply(lambda x: all_methods.index(x))\n",
    "    return df.sort_values(by=['instance_size', 'method_idx'])\n",
    "\n",
    "all_res_df = pd.read_json('../data/results/atsp-out-300.json')\n",
    "\n",
    "selected_instances = all_res_df['instance'].unique()\n",
    "\n",
    "all_methods = [\n",
    "    \"steepest-search\",\n",
    "    \"steepest-search-nn\",\n",
    "    \"greedy-search\",\n",
    "    \"greedy-search-nn\",\n",
    "    \"nn-heuristic\",\n",
    "    \"random-walk\",\n",
    "    \"random\"\n",
    "]\n",
    "selected_methods = [\n",
    "    \"steepest-search\",\n",
    "    \"greedy-search\",\n",
    "    \"nn-heuristic\",\n",
    "    \"random-walk\",\n",
    "    \"random\"\n",
    "]\n",
    "\n",
    "all_res_df = annotate_ordering(all_res_df).reset_index(drop=True)\n",
    "all_res_df.head()"
   ]
  },
  {
   "cell_type": "code",
   "execution_count": null,
   "metadata": {},
   "outputs": [],
   "source": [
    "LS_METHODS = [\"steepest-search\", \"greedy-search\"]\n",
    "LS_NN_METHODS = [\"steepest-search-nn\", \"greedy-search-nn\"]\n",
    "RANDOM_METHODS = [\"random-walk\", \"random\"]"
   ]
  },
  {
   "cell_type": "code",
   "execution_count": null,
   "metadata": {},
   "outputs": [],
   "source": [
    "COLORS = dict(zip(selected_methods, sns.palettes.SEABORN_PALETTES[\"muted\"]))\n",
    "COLORS[\"steepest-search\"] = \"#6a9ec3\"\n",
    "COLORS[\"steepest-search-nn\"] = \"#14397E\"\n",
    "COLORS[\"greedy-search-nn\"] = \"#76330E\"\n",
    "\n",
    "all_res_df[\"distance\"] = all_res_df.apply(lambda row: (row['cost'] - optima[row['instance']]) / optima[row['instance']], axis=1)\n",
    "groupped_df = all_res_df.groupby(['instance', 'method'])[[\"distance\", \"time\", \"iterations\", \"steps\", \"evaluations\", 'cost']].agg(['mean', 'std', 'min', 'max'])\n",
    "groupped_df.columns = [\"_\".join(x) for x in groupped_df.columns]\n",
    "stats_df = groupped_df.reset_index()\n",
    "stats_df = annotate_ordering(stats_df).reset_index(drop=True)\n",
    "stats_df.head()"
   ]
  },
  {
   "cell_type": "code",
   "execution_count": null,
   "metadata": {},
   "outputs": [],
   "source": [
    "def plot_violin_by_attr(\n",
    "        res_df: pd.DataFrame, \n",
    "        selected_methods: list[str],\n",
    "        selected_instances: list[str], \n",
    "        attribute: str,\n",
    "        ax: plt.Axes,\n",
    "    ):\n",
    "    filtered_df = res_df[res_df['method'].isin(selected_methods) & res_df['instance'].isin(selected_instances)]\n",
    "    sns.violinplot(\n",
    "        x='instance', \n",
    "        y=attribute, \n",
    "        hue='method', \n",
    "        data=filtered_df, \n",
    "        ax=ax,\n",
    "        linewidth=0, \n",
    "        scale='width', \n",
    "        palette=COLORS, \n",
    "    )\n",
    "    ax.vlines(\n",
    "        np.arange(-1, len(selected_instances)) + 0.5, \n",
    "        0, \n",
    "        filtered_df[attribute].max(), \n",
    "        linestyles='dotted', \n",
    "        colors='gray', \n",
    "        alpha=0.5,\n",
    "    )\n",
    "    ax.set_xticklabels(ax.get_xticklabels(), rotation=45)\n",
    "    return ax\n",
    "\n",
    "\n",
    "def plot_bars(\n",
    "    res_df: pd.DataFrame,\n",
    "    selected_methods: list[str],\n",
    "    selected_instances: list[str],\n",
    "    attribute: str,\n",
    "    ax: plt.Axes,\n",
    "    err_attribute: str = None,\n",
    "):\n",
    "    filtered_df = res_df[res_df['method'].isin(selected_methods) & res_df['instance'].isin(selected_instances)]\n",
    "    sns.barplot(\n",
    "        x='instance', \n",
    "        y=attribute, \n",
    "        hue='method', \n",
    "        data=filtered_df, \n",
    "        ax=ax,\n",
    "        palette=COLORS,\n",
    "    )\n",
    "    if err_attribute:\n",
    "        x_coords = np.array([p.get_x() + p.get_width() / 2 for p in ax.patches])\n",
    "        y_coords = np.array([p.get_height() for p in ax.patches])\n",
    "        sorted_idx = np.argsort(x_coords)\n",
    "        x_coords = x_coords[sorted_idx]\n",
    "        y_coords = y_coords[sorted_idx]\n",
    "        ax.errorbar(x_coords, y_coords, yerr=filtered_df[err_attribute].to_numpy(), fmt='none', ecolor='black', capsize=2)\n",
    "\n",
    "\n",
    "    ax.set_xticklabels(ax.get_xticklabels(), rotation=45)\n",
    "    return ax"
   ]
  },
  {
   "cell_type": "code",
   "execution_count": null,
   "metadata": {},
   "outputs": [],
   "source": [
    "sns.set_style(\"ticks\")"
   ]
  },
  {
   "cell_type": "markdown",
   "metadata": {},
   "source": [
    "## 1. Quality (distance from the optimum)"
   ]
  },
  {
   "cell_type": "code",
   "execution_count": null,
   "metadata": {},
   "outputs": [],
   "source": [
    "fig, axs = plt.subplots(2, 1, figsize=(10, 8), sharex=True)\n",
    "plot_violin_by_attr(all_res_df, [*LS_METHODS, *LS_NN_METHODS, \"nn-heuristic\"], selected_instances, \"distance\", axs[0])\n",
    "plot_violin_by_attr(all_res_df, RANDOM_METHODS, selected_instances, \"distance\", axs[1])\n",
    "axs[0].set_xlabel(\"\")\n",
    "axs[0].set_ylabel(\"Distance from optimal solution\")\n",
    "axs[1].set_ylabel(\"Distance from optimal solution\")\n",
    "axs[1].set_xlabel(\"Instance\")\n",
    "axs[1].legend()\n",
    "\n",
    "plt.tight_layout()\n",
    "plt.savefig(\"plots/1/violin_distance.png\")\n",
    "plt.show()"
   ]
  },
  {
   "cell_type": "code",
   "execution_count": null,
   "metadata": {},
   "outputs": [],
   "source": [
    "with sns.axes_style(\"whitegrid\"):\n",
    "    fig, axs = plt.subplots(1, 2, figsize=(15, 5), sharey=True)\n",
    "    plot_bars(stats_df, selected_methods, selected_instances, \"distance_mean\", axs[0], \"distance_std\")\n",
    "    axs[0].set_ylabel(\"Distance to optimum\")\n",
    "    axs[0].set_xlabel(\"Instance\")\n",
    "    axs[0].set_title(\"Mean\")\n",
    "    plot_bars(stats_df, selected_methods, selected_instances, \"distance_min\", axs[1])\n",
    "    axs[1].legend().remove()\n",
    "    axs[1].set_ylabel(\"\")\n",
    "    axs[1].set_xlabel(\"Instance\")\n",
    "    axs[1].set_title(\"Min\")\n",
    "    plt.yscale('log')\n",
    "    plt.tight_layout()\n",
    "    plt.savefig(\"plots/1/bar_distance.png\")\n",
    "    plt.show()"
   ]
  },
  {
   "cell_type": "markdown",
   "metadata": {},
   "source": [
    "# 2. Time"
   ]
  },
  {
   "cell_type": "code",
   "execution_count": null,
   "metadata": {},
   "outputs": [],
   "source": [
    "fig, ax = plt.subplots(1, 1, figsize=(8, 4))\n",
    "plot_violin_by_attr(all_res_df, [\"steepest-search\", \"greedy-search\", \"nn-heuristic\"], selected_instances, \"time\", ax)\n",
    "\n",
    "ax.legend()\n",
    "ax.set_ylabel(\"Running Time\")\n",
    "ax.set_xlabel(\"Instance\")\n",
    "plt.yscale('log')\n",
    "plt.yticks([10**i for i in range(3, 13, 3)], [\"1 us\", \"1 ms\", \"1 s\", \"1000 s\"])\n",
    "plt.tight_layout()\n",
    "plt.savefig(\"plots/1/violin_time.png\")\n",
    "plt.show()"
   ]
  },
  {
   "cell_type": "code",
   "execution_count": null,
   "metadata": {},
   "outputs": [],
   "source": [
    "with sns.axes_style(\"whitegrid\"):\n",
    "    fig, ax = plt.subplots(1, 1, figsize=(12, 4))\n",
    "    plot_bars(stats_df, selected_methods + LS_NN_METHODS, selected_instances, \"time_mean\", ax, \"time_std\")\n",
    "    ax.legend(\n",
    "        loc='center left',\n",
    "        bbox_to_anchor=(1, 0.5),\n",
    "    )\n",
    "\n",
    "    ax.set_ylabel(\"Running Time\")\n",
    "    ax.set_xlabel(\"Instance\")\n",
    "    plt.yscale('log')\n",
    "    plt.yticks([10**i for i in range(0, 13, 3)], [\"1 ns\", \"1 us\", \"1 ms\", \"1 s\", \"1000 s\"])\n",
    "    plt.tight_layout()\n",
    "    plt.savefig(\"plots/1/bar_time.png\")\n",
    "    plt.show()"
   ]
  },
  {
   "cell_type": "code",
   "execution_count": null,
   "metadata": {},
   "outputs": [],
   "source": [
    "# plot mean time over instance size for each method\n",
    "with sns.axes_style(\"whitegrid\"):\n",
    "    fig, axs = plt.subplots(1, 2, figsize=(16, 4))\n",
    "    sns.lineplot(\n",
    "        x='instance_size',\n",
    "        y='time_mean',\n",
    "        hue='method',\n",
    "        data=stats_df[stats_df['method'].isin(selected_methods)],\n",
    "        ax=axs[0],\n",
    "        palette=COLORS,\n",
    "        marker=\"o\"\n",
    "    )\n",
    "    axs[0].set_ylabel(\"Running Time\")\n",
    "    axs[0].set_xlabel(\"Instance size\")\n",
    "    axs[0].set_yscale('log')\n",
    "    axs[0].set_yticks([10**i for i in range(0, 13, 3)], [\"1 ns\", \"1 us\", \"1 ms\", \"1 s\", \"1000 s\"])\n",
    "    axs[0].legend().remove()\n",
    "    # plot mean distance over instance size for each method\n",
    "    # highligh points as dots\n",
    "\n",
    "    sns.lineplot(\n",
    "        x='instance_size',\n",
    "        y='distance_mean',\n",
    "        hue='method',\n",
    "        data=stats_df[stats_df['method'].isin(selected_methods)],\n",
    "        ax=axs[1],\n",
    "        palette=COLORS,\n",
    "        marker=\"o\"\n",
    "    )\n",
    "    axs[1].set_ylabel(\"Distance\")\n",
    "    axs[1].set_xlabel(\"Instance size\")\n",
    "\n",
    "    # plt.yscale('log')\n",
    "    plt.tight_layout()\n",
    "    plt.savefig(\"plots/1/line_time_distance.png\")\n",
    "    plt.show()"
   ]
  },
  {
   "cell_type": "markdown",
   "metadata": {},
   "source": [
    "# 3. Efficiency of algorithms"
   ]
  },
  {
   "cell_type": "code",
   "execution_count": null,
   "metadata": {},
   "outputs": [],
   "source": [
    "# plot mean time over mean distance for each method\n",
    "fig, axs = plt.subplots(2, 4, figsize=(12, 6))#, sharex=True, sharey=True)\n",
    "\n",
    "for instance, ax in zip(selected_instances, axs.flatten()):\n",
    "    subset_df = all_res_df[(all_res_df['instance'] == instance) & (all_res_df['method'].isin(selected_methods + LS_NN_METHODS))]\n",
    "    sns.scatterplot(\n",
    "        x='time',\n",
    "        y='distance',\n",
    "        hue='method',\n",
    "        data=subset_df,\n",
    "        ax=ax,\n",
    "        alpha=0.3,\n",
    "        palette=COLORS,\n",
    "    )\n",
    "    summary_subset_df = stats_df[(stats_df['instance'] == instance) & (stats_df['method'].isin(selected_methods + LS_NN_METHODS))]\n",
    "\n",
    "    ax.set_xlabel(\"Mean Time [ns]\")\n",
    "    ax.set_ylabel(\"Mean Distance\")\n",
    "    ax.set_title(instance)\n",
    "    ax.set_yscale('log')\n",
    "    ax.get_legend().remove()\n",
    "\n",
    "plt.tight_layout()\n",
    "plt.savefig(\"plots/1/efficiency.png\")\n",
    "plt.show()"
   ]
  },
  {
   "cell_type": "markdown",
   "metadata": {},
   "source": [
    "# 4. Number of steps"
   ]
  },
  {
   "cell_type": "code",
   "execution_count": null,
   "metadata": {},
   "outputs": [],
   "source": [
    "with sns.axes_style(\"whitegrid\"):\n",
    "    fig, ax = plt.subplots(1, 1, figsize=(8, 4))\n",
    "    plot_bars(stats_df, LS_METHODS + LS_NN_METHODS, selected_instances, \"steps_mean\", ax, \"steps_std\")\n",
    "    ax.set_ylabel(\"Number of steps\")\n",
    "    ax.set_xlabel(\"Instance\")\n",
    "    plt.tight_layout()\n",
    "    plt.yscale('log')\n",
    "    plt.savefig(\"plots/1/bar_steps.png\")\n",
    "    plt.show()"
   ]
  },
  {
   "cell_type": "markdown",
   "metadata": {},
   "source": [
    "# 5. Number of evaluations"
   ]
  },
  {
   "cell_type": "code",
   "execution_count": null,
   "metadata": {},
   "outputs": [],
   "source": [
    "with sns.axes_style(\"whitegrid\"):\n",
    "    fig, ax = plt.subplots(1, 1, figsize=(8, 4))\n",
    "    plot_bars(stats_df, [*LS_METHODS, *LS_NN_METHODS, *RANDOM_METHODS], selected_instances, \"evaluations_mean\", ax, \"evaluations_std\")\n",
    "    ax.set_ylabel(\"Number of evaluations\")\n",
    "    ax.set_xlabel(\"Instance\")\n",
    "    plt.yscale('log')\n",
    "    plt.tight_layout()\n",
    "    plt.savefig(\"plots/1/bar_evaluations.png\")\n",
    "    plt.show()"
   ]
  },
  {
   "cell_type": "markdown",
   "metadata": {},
   "source": [
    "# 6. Quality Improvement"
   ]
  },
  {
   "cell_type": "code",
   "execution_count": null,
   "metadata": {},
   "outputs": [],
   "source": [
    "fig, axs = plt.subplots(2, 4, figsize=(12, 4))#, sharex=True, sharey=True)\n",
    "\n",
    "for instance, ax in zip(selected_instances, axs.flatten()):\n",
    "    sns.scatterplot(\n",
    "        x='initial_cost',\n",
    "        y='cost',\n",
    "        hue='method',\n",
    "        data=all_res_df[(all_res_df['instance'] == instance) & (all_res_df['method'].isin(LS_METHODS))],\n",
    "        ax=ax,\n",
    "        palette=COLORS,\n",
    "        alpha=0.5,\n",
    "    )\n",
    "    ax.set_xlabel(\"Initial cost\")\n",
    "    ax.set_ylabel(\"Final cost\")\n",
    "    ax.set_title(instance)\n",
    "    ax.get_legend().remove()\n",
    "\n",
    "plt.tight_layout()\n",
    "plt.savefig(\"plots/1/scatter_initial_final_cost_random_init.png\")\n",
    "plt.show()"
   ]
  },
  {
   "cell_type": "code",
   "execution_count": null,
   "metadata": {},
   "outputs": [],
   "source": [
    "fig, axs = plt.subplots(2, 4, figsize=(15, 7))#, sharex=True, sharey=True)\n",
    "line_colors = sns.color_palette(\"muted\", len(selected_methods))\n",
    "\n",
    "for instance, ax in zip(selected_instances, axs.flatten()):\n",
    "    subset_df = all_res_df[(all_res_df['instance'] == instance) & (all_res_df['method'].isin(LS_NN_METHODS))]\n",
    "    sns.scatterplot(\n",
    "        x='initial_cost',\n",
    "        y='cost',\n",
    "        hue='method',\n",
    "        data=subset_df,\n",
    "        ax=ax,\n",
    "        palette=COLORS,\n",
    "        alpha=0.5\n",
    "    )\n",
    "    \n",
    "    for i, (method, method_df) in enumerate(subset_df.groupby('method')):\n",
    "        x = method_df['initial_cost']\n",
    "        y = method_df['cost']\n",
    "        coef = np.polyfit(x, y, 1)\n",
    "        poly1d_fn = np.poly1d(coef)\n",
    "        # add box with correlation\n",
    "        ax.text(0.02, 0.95 - 0.05 * i, f\"{method}: {np.corrcoef(x, y)[0, 1]:.2f}\", transform=ax.transAxes, fontsize=8)\n",
    "\n",
    "    ax.set_title(instance)\n",
    "    ax.get_legend().remove()\n",
    "    ax.set_xlabel(\"Initial cost\")\n",
    "    ax.set_ylabel(\"Final cost\")\n",
    "\n",
    "plt.tight_layout()\n",
    "plt.savefig(\"plots/1/scatter_initial_final_cost_nn_init.png\")\n",
    "plt.show()"
   ]
  },
  {
   "cell_type": "markdown",
   "metadata": {},
   "source": [
    "# 7. Number of restarts"
   ]
  },
  {
   "cell_type": "code",
   "execution_count": null,
   "metadata": {},
   "outputs": [],
   "source": [
    "running_cost_df = all_res_df[all_res_df[\"method\"].isin(LS_METHODS + LS_NN_METHODS)].reset_index(drop=True)\n",
    "\n",
    "running_min_cost = np.zeros(len(running_cost_df),)\n",
    "running_avg_cost = np.zeros(len(running_cost_df),)\n",
    "\n",
    "for instance in selected_instances:\n",
    "    for method in LS_METHODS + LS_NN_METHODS:\n",
    "        idx = running_cost_df[(running_cost_df[\"instance\"] == instance) & (running_cost_df[\"method\"] == method)].index\n",
    "        running_min_cost[idx] = running_cost_df[(running_cost_df[\"instance\"] == instance) & (running_cost_df[\"method\"] == method)][\"cost\"].cummin()\n",
    "        running_avg_cost[idx] = running_cost_df[(running_cost_df[\"instance\"] == instance) & (running_cost_df[\"method\"] == method)][\"cost\"].expanding().mean()\n",
    "\n",
    "running_cost_df[\"running_min_cost\"] = running_min_cost\n",
    "running_cost_df[\"running_avg_cost\"] = running_avg_cost\n",
    "# make a column that counts consecutive instance-method pairs\n",
    "running_cost_df[\"count\"] = running_cost_df.groupby(['instance', 'method']).cumcount()"
   ]
  },
  {
   "cell_type": "code",
   "execution_count": null,
   "metadata": {},
   "outputs": [],
   "source": [
    "fig, axs = plt.subplots(2, 4, figsize=(12, 6))\n",
    "\n",
    "for instance, ax in zip(selected_instances, axs.flatten()):\n",
    "    subset_df = running_cost_df[(running_cost_df[\"instance\"] == instance) & running_cost_df[\"method\"].isin(LS_METHODS + LS_NN_METHODS)]\n",
    "\n",
    "    \n",
    "    sns.lineplot(\n",
    "        x=subset_df[\"count\"],\n",
    "        y=subset_df['running_min_cost'],\n",
    "        hue=subset_df[\"method\"],\n",
    "        ax=ax,\n",
    "        palette=COLORS,\n",
    "    )\n",
    "    sns.lineplot(\n",
    "        x=subset_df[\"count\"],\n",
    "        y=subset_df['running_avg_cost'],\n",
    "        hue=subset_df['method'],\n",
    "        ax=ax,\n",
    "        palette=COLORS,\n",
    "        linestyle='dotted',\n",
    "    ) \n",
    "    ax.set_ylabel(\"Cost\")\n",
    "    ax.set_xlabel(\"Iteration\")\n",
    "    \n",
    "    ax.set_title(instance)\n",
    "    ax.get_legend().remove()\n",
    "\n",
    "legend_elements = []\n",
    "for method in LS_METHODS + LS_NN_METHODS:\n",
    "    legend_elements.append(plt.Line2D([0], [0], color=COLORS[method], label=f\"{method} (min)\"))\n",
    "    legend_elements.append(plt.Line2D([0], [0], color=COLORS[method], linestyle='dotted', label=f\"{method} (avg)\"))\n",
    "\n",
    "fig.legend(\n",
    "    handles=legend_elements,\n",
    "    loc='upper right',\n",
    "    bbox_to_anchor=(1.175, 0.95),\n",
    ")\n",
    "plt.tight_layout()\n",
    "plt.savefig(\"plots/1/line_running_cost.png\")\n",
    "plt.show()"
   ]
  },
  {
   "cell_type": "markdown",
   "metadata": {},
   "source": [
    "# 8. Best solutions"
   ]
  },
  {
   "cell_type": "code",
   "execution_count": null,
   "metadata": {},
   "outputs": [],
   "source": [
    "best_costs = all_res_df.groupby(\"instance\")[\"cost\"].min()\n",
    "best_entries = all_res_df[all_res_df[\"cost\"].isin(best_costs)].groupby(\"instance\").first()\n",
    "\n",
    "best_orders = best_entries.order.to_dict()\n",
    "best_costs = best_entries.cost.to_dict()\n",
    "\n",
    "best_dict = {\n",
    "    k: {\"order\": best_orders[k], \"cost\": best_costs[k]} for k in best_orders\n",
    "}"
   ]
  },
  {
   "cell_type": "code",
   "execution_count": null,
   "metadata": {},
   "outputs": [],
   "source": [
    "def similarity(order_a: list[int], order_b: list[int]) -> float:\n",
    "    edges_a = set(zip(order_a, [*order_a[1:], order_a[0]]))\n",
    "    edges_b = set(zip(order_b, [*order_b[1:], order_b[0]]))\n",
    "    return len(edges_a & edges_b) / len(order_a)\n",
    "\n",
    "all_res_df[\"similarity\"] = all_res_df.apply(lambda row: similarity(row[\"order\"], best_dict[row[\"instance\"]][\"order\"]), axis=1)"
   ]
  },
  {
   "cell_type": "code",
   "execution_count": null,
   "metadata": {},
   "outputs": [],
   "source": [
    "fig, axs = plt.subplots(4, 2, figsize=(12, 12), sharey=True)\n",
    "\n",
    "for instance, ax in zip(selected_instances, axs.flatten()):\n",
    "    subset_df = running_cost_df[(running_cost_df[\"instance\"] == instance) & running_cost_df[\"method\"].isin(LS_METHODS + LS_NN_METHODS)]\n",
    "    sns.scatterplot(\n",
    "        x='cost',\n",
    "        y='similarity',\n",
    "        hue='method',\n",
    "        data=all_res_df[(all_res_df['instance'] == instance) & (all_res_df['method'].isin([\"steepest-search\", \"greedy-search\", \"steepest-search-nn\", \"greedy-search-nn\"]))],\n",
    "        ax=ax,\n",
    "        palette=COLORS,\n",
    "        alpha=0.5,\n",
    "    )\n",
    "    ax.set_title(instance)\n",
    "    ax.get_legend().remove()\n",
    "    ax.set_xlabel(\"cost\")\n",
    "    ax.set_ylabel(\"similarirty\")\n",
    "\n",
    "plt.legend()\n",
    "plt.tight_layout()\n",
    "plt.savefig(\"plots/1/scatter_cost_similarity.png\")\n",
    "plt.show()"
   ]
  }
 ],
 "metadata": {
  "kernelspec": {
   "display_name": "dviz",
   "language": "python",
   "name": "python3"
  },
  "language_info": {
   "codemirror_mode": {
    "name": "ipython",
    "version": 3
   },
   "file_extension": ".py",
   "mimetype": "text/x-python",
   "name": "python",
   "nbconvert_exporter": "python",
   "pygments_lexer": "ipython3",
   "version": "3.10.4"
  }
 },
 "nbformat": 4,
 "nbformat_minor": 2
}
